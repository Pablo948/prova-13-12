{
 "cells": [
  {
   "cell_type": "markdown",
   "id": "5bb05f2a",
   "metadata": {},
   "source": [
    "# METODO DE NEWTON"
   ]
  },
  {
   "cell_type": "markdown",
   "id": "675c1ad7",
   "metadata": {},
   "source": [
    "1 - IMPORTANDO BIBLIOTECAS"
   ]
  },
  {
   "cell_type": "code",
   "execution_count": 1,
   "id": "d8f48800",
   "metadata": {},
   "outputs": [],
   "source": [
    "import sympy as sp\n",
    "import math "
   ]
  },
  {
   "cell_type": "markdown",
   "id": "9955643a",
   "metadata": {},
   "source": [
    "2 - ENTRADA DE DADOS"
   ]
  },
  {
   "cell_type": "code",
   "execution_count": 2,
   "id": "ab63ff62",
   "metadata": {},
   "outputs": [
    {
     "name": "stdout",
     "output_type": "stream",
     "text": [
      "Insira a funcao:8*x-2\n",
      "Insira o valor da funcao que deseja achar:0\n",
      "f(x) = 8*x - 2\n",
      "insira o erro de |b-a| desejado:1e-6\n",
      "insira o erro de |f(x)| desejado:1e-6\n",
      "Insira o numero maximo de iteracoes:100\n"
     ]
    }
   ],
   "source": [
    "x = sp.symbols('x')    #definir x como sendo uma variavel\n",
    "f = sp.simplify(input('Insira a funcao:'))    #Inserir a funcao f(x) \n",
    "y = float(input('Insira o valor da funcao que deseja achar:'))    #inserir o valor desejado\n",
    "f = f - y  \n",
    "print(f'f(x) = {f}')    #mostrar a funcao f(x) que serao usada nas iteracoes\n",
    "f_a =sp.lambdify(x, f, \"math\")   \n",
    "P_x = float(input('insira o erro de |b-a| desejado:'))    \n",
    "P_f = float(input('insira o erro de |f(x)| desejado:'))\n",
    "N_I = int(input('Insira o numero maximo de iteracoes:'))"
   ]
  },
  {
   "cell_type": "markdown",
   "id": "815a9ff0",
   "metadata": {},
   "source": [
    "3 - IMPLEMENTANDO O METODO"
   ]
  },
  {
   "cell_type": "code",
   "execution_count": 3,
   "id": "89d16dcd",
   "metadata": {},
   "outputs": [
    {
     "name": "stdout",
     "output_type": "stream",
     "text": [
      "A derivada da funcao e: \n",
      " f'(x) = 8\n",
      "insira o \"chute\" inicial:2\n",
      "1 iteracao\n",
      " -->x1 = 2.0 // f(x1) = 14.0 // f'(x1) = 8\n",
      "  -->|f(x1)| = 14.0 e |x1-x0| = 2.0\n",
      "2 iteracao\n",
      " -->x2 = 0.25 // f(x2) = 0.0 // f'(x2) = 8\n",
      "  -->|f(x2)| = 0.0 e |x2-x1| = 1.75\n",
      "3 iteracao\n",
      " -->x3 = 0.25 // f(x3) = 0.0 // f'(x3) = 8\n",
      "  -->|f(x3)| = 0.0 e |x3-x2| = 0.0\n"
     ]
    }
   ],
   "source": [
    "f_der = f.diff(x)    #Calculo da derivada\n",
    "f_b =sp.lambdify(x, f_der, \"math\")\n",
    "print(f\"A derivada da funcao e: \\n f'(x) = {f_der}\")\n",
    "a = float(input('insira o \"chute\" inicial:'))\n",
    "E_x = abs(a)\n",
    "E_f = abs(f_a(a))\n",
    "C = 0 \n",
    "if  (a - (f_a(a)/f_b(a)))<0 :\n",
    "    print('nao ha como usar esse metodo')\n",
    "else:   \n",
    "    while P_x < E_x or P_f < E_f and C < N_I:\n",
    "        C += 1\n",
    "        print(f\"{C} iteracao\\n -->x{C} = {a} // f(x{C}) = {f_a(a)} // f'(x{C}) = {f_b(a)}\\n  -->|f(x{C})| = {E_f} e |x{C}-x{C-1}| = {E_x}\")\n",
    "        b = a \n",
    "        a = a - (f_a(a)/f_b(a))\n",
    "        E_f = abs((f_a(a)))\n",
    "        E_x = abs(a - b)            \n",
    "    print(f\"{C+1} iteracao\\n -->x{C+1} = {a} // f(x{C+1}) = {f_a(a)} // f'(x{C+1}) = {f_b(a)}\\n  -->|f(x{C+1})| = {E_f} e |x{C+1}-x{C}| = {E_x}\")"
   ]
  },
  {
   "cell_type": "code",
   "execution_count": null,
   "id": "37838204",
   "metadata": {},
   "outputs": [],
   "source": []
  }
 ],
 "metadata": {
  "kernelspec": {
   "display_name": "Python 3 (ipykernel)",
   "language": "python",
   "name": "python3"
  },
  "language_info": {
   "codemirror_mode": {
    "name": "ipython",
    "version": 3
   },
   "file_extension": ".py",
   "mimetype": "text/x-python",
   "name": "python",
   "nbconvert_exporter": "python",
   "pygments_lexer": "ipython3",
   "version": "3.9.13"
  }
 },
 "nbformat": 4,
 "nbformat_minor": 5
}
