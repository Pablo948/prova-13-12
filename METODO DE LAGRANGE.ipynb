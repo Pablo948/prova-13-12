{
 "cells": [
  {
   "cell_type": "markdown",
   "id": "3f59b948",
   "metadata": {},
   "source": [
    "# METODO DE LAGRANGE"
   ]
  },
  {
   "cell_type": "markdown",
   "id": "05855627",
   "metadata": {},
   "source": [
    "1 -  IMPORTANDO BIBLIOTECAS"
   ]
  },
  {
   "cell_type": "code",
   "execution_count": 1,
   "id": "8259a9ae",
   "metadata": {},
   "outputs": [],
   "source": [
    "import sympy as sp\n",
    "import itertools as it\n",
    "import math "
   ]
  },
  {
   "cell_type": "markdown",
   "id": "bfc47de3",
   "metadata": {},
   "source": [
    "2 - INSERINDO AS VARIAVEIS"
   ]
  },
  {
   "cell_type": "code",
   "execution_count": null,
   "id": "39995423",
   "metadata": {},
   "outputs": [],
   "source": [
    "x = sp.symbols('x')\n",
    "n = int(input('Insira o numero de pontos que deseja:'))\n",
    "Var = [float(input(f'Insira o valor de x{i+1}:')) for i in range(n)]\n",
    "Fun = [float(input(f'Insira o valor de f(x{i+1}):')) for i in range(n)]\n",
    "Degree = int(input('Insira o grau do polinomio:'))\n",
    "Point = float(input(f'Insira um ponto:'))"
   ]
  },
  {
   "cell_type": "markdown",
   "id": "f01f425d",
   "metadata": {},
   "source": [
    "3 - IMPLEMETANDO O METODO"
   ]
  },
  {
   "cell_type": "code",
   "execution_count": null,
   "id": "8129ccc7",
   "metadata": {},
   "outputs": [],
   "source": [
    "def produto(*args, j = 1):\n",
    "    for i in args:\n",
    "        j *= i\n",
    "    return j\n",
    "    \n",
    "f_cima = [x-Var[i] for i in range(n)]\n",
    "f_baixo = list(it.starmap(lambda x, y: x-y, list(it.permutations(Var,2))))\n",
    "lista = [(f_baixo[0+i*Degree:Degree*(i+1)]) for i in range(len(f_baixo)//Degree)]\n",
    "f_baixo_produto = list(it.starmap(produto, lista))\n",
    "f_baixo_produto = f_baixo_produto\n",
    "f_cima_produto = list(it.starmap(produto, list(it.combinations(f_cima, Degree))))\n",
    "f_cima_produto.reverse()\n",
    "f = [Fun[i]*f_cima_produto[i]/f_baixo_produto[i] for i in range(len(Fun))]\n",
    "f_b =sp.lambdify(x, f_a, \"math\")\n",
    "print(f'a funcao da funcao sera f({ponto}) = {f_b(ponto)}')\n",
    "f_a = sp.expand(sum(f))\n",
    "print('Seu polinômio sera:')\n",
    "f_a"
   ]
  }
 ],
 "metadata": {
  "kernelspec": {
   "display_name": "Python 3 (ipykernel)",
   "language": "python",
   "name": "python3"
  },
  "language_info": {
   "codemirror_mode": {
    "name": "ipython",
    "version": 3
   },
   "file_extension": ".py",
   "mimetype": "text/x-python",
   "name": "python",
   "nbconvert_exporter": "python",
   "pygments_lexer": "ipython3",
   "version": "3.9.13"
  }
 },
 "nbformat": 4,
 "nbformat_minor": 5
}
