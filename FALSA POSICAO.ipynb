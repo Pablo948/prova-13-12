{
 "cells": [
  {
   "cell_type": "markdown",
   "id": "654924af",
   "metadata": {},
   "source": [
    "# METODO DA FALSA POSICAO"
   ]
  },
  {
   "cell_type": "markdown",
   "id": "1b142e33",
   "metadata": {},
   "source": [
    "1 - IMPORTANDO BIBLIOTECAS"
   ]
  },
  {
   "cell_type": "code",
   "execution_count": 2,
   "id": "59fecb3a",
   "metadata": {},
   "outputs": [],
   "source": [
    "import sympy as sp\n",
    "import math "
   ]
  },
  {
   "cell_type": "markdown",
   "id": "4c88bf8e",
   "metadata": {},
   "source": [
    "2 - ENTRADA DE DADOS"
   ]
  },
  {
   "cell_type": "code",
   "execution_count": 4,
   "id": "5b8578ea",
   "metadata": {},
   "outputs": [
    {
     "name": "stdout",
     "output_type": "stream",
     "text": [
      "Insira a funcao:8*x-2\n",
      "Insira o valor da funcao que deseja achar:0\n",
      "f(x) = 8*x - 2\n",
      "insira o erro de |b-a| desejado:1e-6\n",
      "insira o erro de |f(x)| desejado:1e-6\n",
      "Insira o numero maximo de iteracoes:100\n"
     ]
    }
   ],
   "source": [
    "x = sp.symbols('x')    #definir x como sendo uma variavel\n",
    "f = sp.simplify(input('Insira a funcao:'))    #Inserir a funcao f(x) \n",
    "y = float(input('Insira o valor da funcao que deseja achar:'))    #inserir o valor desejado\n",
    "f = f - y  \n",
    "print(f'f(x) = {f}')    #mostrar a funcao f(x) que serao usada nas iteracoes\n",
    "f_a =sp.lambdify(x, f, \"math\")   \n",
    "P_x = float(input('insira o erro de |b-a| desejado:'))    \n",
    "P_f = float(input('insira o erro de |f(x)| desejado:'))\n",
    "N_I = int(input('Insira o numero maximo de iteracoes:'))"
   ]
  },
  {
   "cell_type": "markdown",
   "id": "a87020ea",
   "metadata": {},
   "source": [
    "3 - IMPLEMENTANDO O METODO "
   ]
  },
  {
   "cell_type": "code",
   "execution_count": 6,
   "id": "0de072ca",
   "metadata": {},
   "outputs": [
    {
     "name": "stdout",
     "output_type": "stream",
     "text": [
      "insira o menor valor do intervalo:-100\n",
      "insira o maior valor do intervalo:100\n",
      "1 iteracao\n",
      " -->[a1, b1] = [-100.0, 100.0]\n",
      "  -->x1 = -100.0 // f(x1) = -802.0\n",
      "   -->|f(x1)| = 802.0 e |x1-x0| = 200.0\n",
      "2 iteracao\n",
      " -->[a2, b2] = [-100.0, 0.25]\n",
      "  -->x2 = 0.25 // f(x2) = 0.0\n",
      "   -->|f(x2)| = 0.0 e |x2-x1| = 99.75\n",
      "3 iteracao\n",
      " -->[a3, b3] = [-100.0, 0.25]\n",
      "  -->x3 = 0.25 // f(x3) = 0.0\n",
      "   -->|f(x3)| = 0.0 e |x3-x2| = 0.0\n"
     ]
    }
   ],
   "source": [
    "a = float(input('insira o menor valor do intervalo:'))\n",
    "b = float(input('insira o maior valor do intervalo:'))\n",
    "E_x = abs((b-a))\n",
    "E_f = abs(f_a(a))\n",
    "n = a\n",
    "C = 0\n",
    "if f_a(a)*f_a(b)>0:\n",
    "    print('Nao ha raiz nesse intervalo')\n",
    "else:     \n",
    "    while P_x < E_x or P_f < E_f and C < N_I:\n",
    "        C += 1\n",
    "        print(f'{C} iteracao\\n -->[a{C}, b{C}] = [{a}, {b}]\\n  -->x{C} = {n} // f(x{C}) = {f_a(n)}\\n   -->|f(x{C})| = {E_f} e |x{C}-x{C-1}| = {E_x}')\n",
    "        n = float(a*f_a(b) - b*f_a(a))/(f_a(b)-f_a(a))\n",
    "        E_x = abs(a - n if f_a(n)<0 else b -n)\n",
    "        E_f = abs(f_a(n))\n",
    "        if f_a(n)<0:\n",
    "            a = n\n",
    "        else:\n",
    "            b = n\n",
    "    print(f'{C+1} iteracao\\n -->[a{C+1}, b{C+1}] = [{a}, {b}]\\n  -->x{C+1} = {n} // f(x{C+1}) = {f_a(n)}\\n   -->|f(x{C+1})| = {E_f} e |x{C+1}-x{C}| = {E_x}')"
   ]
  },
  {
   "cell_type": "code",
   "execution_count": null,
   "id": "12324dae",
   "metadata": {},
   "outputs": [],
   "source": []
  }
 ],
 "metadata": {
  "kernelspec": {
   "display_name": "Python 3 (ipykernel)",
   "language": "python",
   "name": "python3"
  },
  "language_info": {
   "codemirror_mode": {
    "name": "ipython",
    "version": 3
   },
   "file_extension": ".py",
   "mimetype": "text/x-python",
   "name": "python",
   "nbconvert_exporter": "python",
   "pygments_lexer": "ipython3",
   "version": "3.9.13"
  }
 },
 "nbformat": 4,
 "nbformat_minor": 5
}
