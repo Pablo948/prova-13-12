{
 "cells": [
  {
   "cell_type": "markdown",
   "id": "a102c889",
   "metadata": {},
   "source": [
    "# METODO DA BISSECCAO"
   ]
  },
  {
   "cell_type": "markdown",
   "id": "a50b0244",
   "metadata": {},
   "source": [
    "1 - IMPORTANDO BIBLIOTECAS"
   ]
  },
  {
   "cell_type": "code",
   "execution_count": 3,
   "id": "87d015dd",
   "metadata": {},
   "outputs": [],
   "source": [
    "import sympy as sp\n",
    "import math "
   ]
  },
  {
   "cell_type": "markdown",
   "id": "698b8942",
   "metadata": {},
   "source": [
    "2 - ENTRADA DE DADOS"
   ]
  },
  {
   "cell_type": "code",
   "execution_count": 4,
   "id": "91cc2c2f",
   "metadata": {},
   "outputs": [
    {
     "name": "stdout",
     "output_type": "stream",
     "text": [
      "Insira a funcao:8*x-2\n",
      "Insira o valor da funcao que deseja achar:0\n",
      "f(x) = 8*x - 2\n",
      "insira o erro de |b-a| desejado:1e-6\n",
      "insira o erro de |f(x)| desejado:1e-6\n",
      "Insira o numero maximo de iteracoes:100\n"
     ]
    }
   ],
   "source": [
    "x = sp.symbols('x')    #definir x como sendo uma variavel\n",
    "f = sp.simplify(input('Insira a funcao:'))    #Inserir a funcao f(x) \n",
    "y = float(input('Insira o valor da funcao que deseja achar:'))    #inserir o valor desejado\n",
    "f = f - y  \n",
    "print(f'f(x) = {f}')    #mostrar a funcao f(x) que serao usada nas iteracoes\n",
    "f_a =sp.lambdify(x, f, \"math\")   \n",
    "P_x = float(input('insira o erro de |b-a| desejado:'))    \n",
    "P_f = float(input('insira o erro de |f(x)| desejado:'))\n",
    "N_I = int(input('Insira o numero maximo de iteracoes:'))"
   ]
  },
  {
   "cell_type": "markdown",
   "id": "edecf295",
   "metadata": {},
   "source": [
    "3 - IMPLEMENTANDO O METODO"
   ]
  },
  {
   "cell_type": "code",
   "execution_count": 5,
   "id": "7a2aeee4",
   "metadata": {},
   "outputs": [
    {
     "name": "stdout",
     "output_type": "stream",
     "text": [
      "insira o menor valor do intervalo:-100\n",
      "insira o maior valor do intervalo:100\n",
      "1 iteracao\n",
      " -->[a1, b1] = [-100.0, 100.0]\n",
      "  -->x1 = -100.0 // f(x1) = -802.0\n",
      "   -->|f(x1)| = 802.0 e |x1-x0| = 200.0\n",
      "2 iteracao\n",
      " -->[a2, b2] = [0.0, 100.0]\n",
      "  -->x2 = 0.0 // f(x2) = -2.0\n",
      "   -->|f(x2)| = 2.0 e |x2-x1| = 100.0\n",
      "3 iteracao\n",
      " -->[a3, b3] = [0.0, 50.0]\n",
      "  -->x3 = 50.0 // f(x3) = 398.0\n",
      "   -->|f(x3)| = 398.0 e |x3-x2| = 50.0\n",
      "4 iteracao\n",
      " -->[a4, b4] = [0.0, 25.0]\n",
      "  -->x4 = 25.0 // f(x4) = 198.0\n",
      "   -->|f(x4)| = 198.0 e |x4-x3| = 25.0\n",
      "5 iteracao\n",
      " -->[a5, b5] = [0.0, 12.5]\n",
      "  -->x5 = 12.5 // f(x5) = 98.0\n",
      "   -->|f(x5)| = 98.0 e |x5-x4| = 12.5\n",
      "6 iteracao\n",
      " -->[a6, b6] = [0.0, 6.25]\n",
      "  -->x6 = 6.25 // f(x6) = 48.0\n",
      "   -->|f(x6)| = 48.0 e |x6-x5| = 6.25\n",
      "7 iteracao\n",
      " -->[a7, b7] = [0.0, 3.125]\n",
      "  -->x7 = 3.125 // f(x7) = 23.0\n",
      "   -->|f(x7)| = 23.0 e |x7-x6| = 3.125\n",
      "8 iteracao\n",
      " -->[a8, b8] = [0.0, 1.5625]\n",
      "  -->x8 = 1.5625 // f(x8) = 10.5\n",
      "   -->|f(x8)| = 10.5 e |x8-x7| = 1.5625\n",
      "9 iteracao\n",
      " -->[a9, b9] = [0.0, 0.78125]\n",
      "  -->x9 = 0.78125 // f(x9) = 4.25\n",
      "   -->|f(x9)| = 4.25 e |x9-x8| = 0.78125\n",
      "10 iteracao\n",
      " -->[a10, b10] = [0.0, 0.390625]\n",
      "  -->x10 = 0.390625 // f(x10) = 1.125\n",
      "   -->|f(x10)| = 1.125 e |x10-x9| = 0.390625\n",
      "11 iteracao\n",
      " -->[a11, b11] = [0.1953125, 0.390625]\n",
      "  -->x11 = 0.1953125 // f(x11) = -0.4375\n",
      "   -->|f(x11)| = 0.4375 e |x11-x10| = 0.1953125\n",
      "12 iteracao\n",
      " -->[a12, b12] = [0.1953125, 0.29296875]\n",
      "  -->x12 = 0.29296875 // f(x12) = 0.34375\n",
      "   -->|f(x12)| = 0.34375 e |x12-x11| = 0.09765625\n",
      "13 iteracao\n",
      " -->[a13, b13] = [0.244140625, 0.29296875]\n",
      "  -->x13 = 0.244140625 // f(x13) = -0.046875\n",
      "   -->|f(x13)| = 0.046875 e |x13-x12| = 0.048828125\n",
      "14 iteracao\n",
      " -->[a14, b14] = [0.244140625, 0.2685546875]\n",
      "  -->x14 = 0.2685546875 // f(x14) = 0.1484375\n",
      "   -->|f(x14)| = 0.1484375 e |x14-x13| = 0.0244140625\n",
      "15 iteracao\n",
      " -->[a15, b15] = [0.244140625, 0.25634765625]\n",
      "  -->x15 = 0.25634765625 // f(x15) = 0.05078125\n",
      "   -->|f(x15)| = 0.05078125 e |x15-x14| = 0.01220703125\n",
      "16 iteracao\n",
      " -->[a16, b16] = [0.244140625, 0.250244140625]\n",
      "  -->x16 = 0.250244140625 // f(x16) = 0.001953125\n",
      "   -->|f(x16)| = 0.001953125 e |x16-x15| = 0.006103515625\n",
      "17 iteracao\n",
      " -->[a17, b17] = [0.2471923828125, 0.250244140625]\n",
      "  -->x17 = 0.2471923828125 // f(x17) = -0.0224609375\n",
      "   -->|f(x17)| = 0.0224609375 e |x17-x16| = 0.0030517578125\n",
      "18 iteracao\n",
      " -->[a18, b18] = [0.24871826171875, 0.250244140625]\n",
      "  -->x18 = 0.24871826171875 // f(x18) = -0.01025390625\n",
      "   -->|f(x18)| = 0.01025390625 e |x18-x17| = 0.00152587890625\n",
      "19 iteracao\n",
      " -->[a19, b19] = [0.249481201171875, 0.250244140625]\n",
      "  -->x19 = 0.249481201171875 // f(x19) = -0.004150390625\n",
      "   -->|f(x19)| = 0.004150390625 e |x19-x18| = 0.000762939453125\n",
      "20 iteracao\n",
      " -->[a20, b20] = [0.2498626708984375, 0.250244140625]\n",
      "  -->x20 = 0.2498626708984375 // f(x20) = -0.0010986328125\n",
      "   -->|f(x20)| = 0.0010986328125 e |x20-x19| = 0.0003814697265625\n",
      "21 iteracao\n",
      " -->[a21, b21] = [0.2498626708984375, 0.25005340576171875]\n",
      "  -->x21 = 0.25005340576171875 // f(x21) = 0.00042724609375\n",
      "   -->|f(x21)| = 0.00042724609375 e |x21-x20| = 0.00019073486328125\n",
      "22 iteracao\n",
      " -->[a22, b22] = [0.24995803833007812, 0.25005340576171875]\n",
      "  -->x22 = 0.24995803833007812 // f(x22) = -0.000335693359375\n",
      "   -->|f(x22)| = 0.000335693359375 e |x22-x21| = 9.5367431640625e-05\n",
      "23 iteracao\n",
      " -->[a23, b23] = [0.24995803833007812, 0.25000572204589844]\n",
      "  -->x23 = 0.25000572204589844 // f(x23) = 4.57763671875e-05\n",
      "   -->|f(x23)| = 4.57763671875e-05 e |x23-x22| = 4.76837158203125e-05\n",
      "24 iteracao\n",
      " -->[a24, b24] = [0.24998188018798828, 0.25000572204589844]\n",
      "  -->x24 = 0.24998188018798828 // f(x24) = -0.00014495849609375\n",
      "   -->|f(x24)| = 0.00014495849609375 e |x24-x23| = 2.384185791015625e-05\n",
      "25 iteracao\n",
      " -->[a25, b25] = [0.24999380111694336, 0.25000572204589844]\n",
      "  -->x25 = 0.24999380111694336 // f(x25) = -4.9591064453125e-05\n",
      "   -->|f(x25)| = 4.9591064453125e-05 e |x25-x24| = 1.1920928955078125e-05\n",
      "26 iteracao\n",
      " -->[a26, b26] = [0.2499997615814209, 0.25000572204589844]\n",
      "  -->x26 = 0.2499997615814209 // f(x26) = -1.9073486328125e-06\n",
      "   -->|f(x26)| = 1.9073486328125e-06 e |x26-x25| = 5.9604644775390625e-06\n",
      "27 iteracao\n",
      " -->[a27, b27] = [0.2499997615814209, 0.25000274181365967]\n",
      "  -->x27 = 0.25000274181365967 // f(x27) = 2.193450927734375e-05\n",
      "   -->|f(x27)| = 2.193450927734375e-05 e |x27-x26| = 2.9802322387695312e-06\n",
      "28 iteracao\n",
      " -->[a28, b28] = [0.2499997615814209, 0.2500012516975403]\n",
      "  -->x28 = 0.2500012516975403 // f(x28) = 1.0013580322265625e-05\n",
      "   -->|f(x28)| = 1.0013580322265625e-05 e |x28-x27| = 1.4901161193847656e-06\n",
      "29 iteracao\n",
      " -->[a29, b29] = [0.2499997615814209, 0.2500005066394806]\n",
      "  -->x29 = 0.2500005066394806 // f(x29) = 4.0531158447265625e-06\n",
      "   -->|f(x29)| = 4.0531158447265625e-06 e |x29-x28| = 7.450580596923828e-07\n",
      "30 iteracao\n",
      " -->[a30, b30] = [0.2499997615814209, 0.25000013411045074]\n",
      "  -->x30 = 0.25000013411045074 // f(x30) = 1.0728836059570312e-06\n",
      "   -->|f(x30)| = 1.0728836059570312e-06 e |x30-x29| = 3.725290298461914e-07\n",
      "31 iteracao\n",
      " -->[a31, b31] = [0.24999994784593582, 0.25000013411045074]\n",
      "  -->x31 = 0.24999994784593582 // f(x31) = -4.172325134277344e-07\n",
      "   -->|f(x31)| = 4.172325134277344e-07 e |x31-x30| = 1.862645149230957e-07\n"
     ]
    }
   ],
   "source": [
    "a = float(input('insira o menor valor do intervalo:'))\n",
    "b = float(input('insira o maior valor do intervalo:'))\n",
    "E_x = abs((b-a))\n",
    "E_f = abs(f_a(a))\n",
    "n = a\n",
    "C = 0\n",
    "h = f_a(a)*f_a(b)\n",
    "if h>0:\n",
    "    print('Nao ha raiz nesse intervalo')\n",
    "else:\n",
    "    while P_x < E_x or P_f < E_f and C < N_I:\n",
    "        C += 1\n",
    "        print(f'{C} iteracao\\n -->[a{C}, b{C}] = [{a}, {b}]\\n  -->x{C} = {n} // f(x{C}) = {f_a(n)}\\n   -->|f(x{C})| = {E_f} e |x{C}-x{C-1}| = {E_x}')\n",
    "        n = (b + a)/2\n",
    "        E_x = abs(a - n if f_a(n)<0 else b -n)\n",
    "        E_f = abs(f_a(n))\n",
    "        if f_a(n)<0:\n",
    "            a = n\n",
    "        else:\n",
    "            b = n \n",
    "    print(f'{C+1} iteracao\\n -->[a{C+1}, b{C+1}] = [{a}, {b}]\\n  -->x{C+1} = {n} // f(x{C+1}) = {f_a(n)}\\n   -->|f(x{C+1})| = {E_f} e |x{C+1}-x{C}| = {E_x}')"
   ]
  },
  {
   "cell_type": "code",
   "execution_count": null,
   "id": "e5ce56ef",
   "metadata": {},
   "outputs": [],
   "source": []
  }
 ],
 "metadata": {
  "kernelspec": {
   "display_name": "Python 3 (ipykernel)",
   "language": "python",
   "name": "python3"
  },
  "language_info": {
   "codemirror_mode": {
    "name": "ipython",
    "version": 3
   },
   "file_extension": ".py",
   "mimetype": "text/x-python",
   "name": "python",
   "nbconvert_exporter": "python",
   "pygments_lexer": "ipython3",
   "version": "3.9.13"
  }
 },
 "nbformat": 4,
 "nbformat_minor": 5
}
